{
 "cells": [
  {
   "cell_type": "code",
   "execution_count": 33,
   "metadata": {},
   "outputs": [
    {
     "name": "stdout",
     "output_type": "stream",
     "text": [
      "(6, 14)\n"
     ]
    }
   ],
   "source": [
    "def inicioYFinRegionPromotora(cadenaADN):\n",
    "    inicio = 0\n",
    "    fin = 0\n",
    "    for nt in range(0,len(cadenaADN), 3):\n",
    "            if (inicio == 0) and (cadenaADN[nt:nt+3] == 'TAT'):\n",
    "                if cadenaADN[nt+3:nt+6] == 'AAA':\n",
    "                    inicio = nt+6\n",
    "    for nt in range(0,len(cadenaADN), 3):\n",
    "        if cadenaADN[nt:nt+3] == 'TAT':\n",
    "            if cadenaADN[nt+3:nt+6] == 'AAA':\n",
    "                fin = nt-1\n",
    "    \n",
    "    return (inicio,fin)"
   ]
  },
  {
   "cell_type": "code",
   "execution_count": null,
   "metadata": {},
   "outputs": [],
   "source": []
  }
 ],
 "metadata": {
  "kernelspec": {
   "display_name": "Python 3",
   "language": "python",
   "name": "python3"
  },
  "language_info": {
   "codemirror_mode": {
    "name": "ipython",
    "version": 3
   },
   "file_extension": ".py",
   "mimetype": "text/x-python",
   "name": "python",
   "nbconvert_exporter": "python",
   "pygments_lexer": "ipython3",
   "version": "3.7.6"
  }
 },
 "nbformat": 4,
 "nbformat_minor": 4
}
